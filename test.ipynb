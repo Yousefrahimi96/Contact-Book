{
 "cells": [
  {
   "cell_type": "code",
   "execution_count": 41,
   "metadata": {},
   "outputs": [],
   "source": [
    "class ContactBook:\n",
    "    def __init__(self):\n",
    "        self.contact = {}\n",
    "        \n",
    "    def add_contact(self, name, number, email):\n",
    "        \n",
    "        if name not in self.contact:\n",
    "            self.contact[name] = {\"number\" : number, \"email\" : email}\n",
    "        else:\n",
    "            print(\"name is exist\") \n",
    "        \n",
    "    def detect_contact(self, name):\n",
    "        if name in self.contact:\n",
    "            return self.contact[name]\n",
    "        else:\n",
    "            print(f\"{name} is not exist\")\n",
    "    \n",
    "    def update_contact(self, name, number, email):\n",
    "        if name in self.contact:\n",
    "            self.contact[name] = {\"number\" : number, \"email\" : email}\n",
    "        else:\n",
    "            print(f\"{name} is not exist\")\n",
    "    \n",
    "    def veiw_contact(self):\n",
    "        for name, info in self.contact.items():\n",
    "            print(\"Name:\", name)\n",
    "            print(\"Number:\", info['number'])\n",
    "            print(\"Email:\", info['email'])\n",
    "        \n",
    "    def delete_contact(self, name):\n",
    "        if name in self.contact:\n",
    "            del self.contact[name]\n",
    "            print(f\"{name} succesfuly deleted\")\n",
    "        else:\n",
    "            print(f\"{name} not found\")"
   ]
  },
  {
   "cell_type": "code",
   "execution_count": 42,
   "metadata": {},
   "outputs": [],
   "source": [
    "book = ContactBook()"
   ]
  },
  {
   "cell_type": "code",
   "execution_count": 48,
   "metadata": {},
   "outputs": [],
   "source": [
    "book.add_contact(name=\"yousef\", number=\"09103081184\", email=\"yousefrahimi310@gmail.com\")"
   ]
  },
  {
   "cell_type": "code",
   "execution_count": 49,
   "metadata": {},
   "outputs": [
    {
     "data": {
      "text/plain": [
       "{'number': '09103081184', 'email': 'yousefrahimi310@gmail.com'}"
      ]
     },
     "execution_count": 49,
     "metadata": {},
     "output_type": "execute_result"
    }
   ],
   "source": [
    "book.detect_contact('yousef')"
   ]
  },
  {
   "cell_type": "code",
   "execution_count": 50,
   "metadata": {},
   "outputs": [
    {
     "name": "stdout",
     "output_type": "stream",
     "text": [
      "Name: yousef\n",
      "Number: 09103081184\n",
      "Email: yousefrahimi310@gmail.com\n"
     ]
    }
   ],
   "source": [
    "book.veiw_contact()"
   ]
  },
  {
   "cell_type": "code",
   "execution_count": null,
   "metadata": {},
   "outputs": [],
   "source": []
  }
 ],
 "metadata": {
  "kernelspec": {
   "display_name": "yousef",
   "language": "python",
   "name": "python3"
  },
  "language_info": {
   "codemirror_mode": {
    "name": "ipython",
    "version": 3
   },
   "file_extension": ".py",
   "mimetype": "text/x-python",
   "name": "python",
   "nbconvert_exporter": "python",
   "pygments_lexer": "ipython3",
   "version": "3.13.2"
  }
 },
 "nbformat": 4,
 "nbformat_minor": 2
}
