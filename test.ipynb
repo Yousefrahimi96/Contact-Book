{
 "cells": [
  {
   "cell_type": "code",
   "execution_count": 1,
   "metadata": {},
   "outputs": [],
   "source": [
    "class ContactBook:\n",
    "    def __init__(self):\n",
    "        self.contact = {}\n",
    "        \n",
    "    def add_contact(self, name, number, email):\n",
    "        \n",
    "        if name not in self.contact:\n",
    "            self.contact[name] = {\"number\" : number, \"email\" : email}\n",
    "        else:\n",
    "            print(\"name is exist\") \n",
    "        \n",
    "    def detect_contact(self, name):\n",
    "        if name in self.contact:\n",
    "            return self.contact[name]\n",
    "        else:\n",
    "            print(f\"{name} is not exist\")\n",
    "    \n",
    "    def update_contact(self):\n",
    "        pass\n",
    "    \n",
    "    def delete_contact(self):\n",
    "        pass"
   ]
  },
  {
   "cell_type": "code",
   "execution_count": null,
   "metadata": {},
   "outputs": [],
   "source": []
  }
 ],
 "metadata": {
  "kernelspec": {
   "display_name": "yousef",
   "language": "python",
   "name": "python3"
  },
  "language_info": {
   "codemirror_mode": {
    "name": "ipython",
    "version": 3
   },
   "file_extension": ".py",
   "mimetype": "text/x-python",
   "name": "python",
   "nbconvert_exporter": "python",
   "pygments_lexer": "ipython3",
   "version": "3.13.2"
  }
 },
 "nbformat": 4,
 "nbformat_minor": 2
}
